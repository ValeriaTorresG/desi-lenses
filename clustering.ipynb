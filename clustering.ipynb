{
 "cells": [
  {
   "cell_type": "code",
   "execution_count": 8,
   "id": "43bfb548-0072-4d87-a906-150dc235d7f9",
   "metadata": {},
   "outputs": [],
   "source": [
    "from astropy.table import Table\n",
    "from astropy.io import fits\n",
    "import pandas as pd\n",
    "import time as t\n",
    "import numpy as np\n",
    "import os\n",
    "import json\n",
    "\n",
    "import umap\n",
    "from sklearn.neighbors import radius_neighbors_graph\n",
    "from sklearn.decomposition import PCA\n",
    "from scipy.sparse.csgraph import connected_components\n",
    "\n",
    "from dataclasses import dataclass\n",
    "from pathlib import Path\n",
    "from typing import Dict, List, Sequence, Tuple\n",
    "\n",
    "import seaborn as sns\n",
    "import matplotlib\n",
    "import matplotlib.pyplot as plt\n",
    "from matplotlib import rc\n",
    "matplotlib.rcParams['figure.dpi'] = 360\n",
    "matplotlib.rcParams['text.usetex'] = True\n",
    "rc(\"animation\", html = \"jshtml\")\n",
    "from matplotlib.colors import LinearSegmentedColormap\n",
    "import matplotlib.ticker as ticker\n",
    "import matplotlib.colors as colors\n",
    "from matplotlib.lines import Line2D\n",
    "# plt.style.use('default')\n",
    "\n",
    "from pathlib import Path"
   ]
  },
  {
   "cell_type": "code",
   "execution_count": 3,
   "id": "657e797b-7c7f-4035-ae51-a1447f220a10",
   "metadata": {},
   "outputs": [
    {
     "name": "stdout",
     "output_type": "stream",
     "text": [
      "               total        used        free      shared  buff/cache   available\n",
      "Mem:           251Gi        37Gi       202Gi       931Mi        30Gi       213Gi\n",
      "Swap:             0B          0B          0B\n"
     ]
    }
   ],
   "source": [
    "!free -h"
   ]
  },
  {
   "cell_type": "code",
   "execution_count": 4,
   "id": "0750f7b4-6080-461e-8974-bf50bf328fe5",
   "metadata": {},
   "outputs": [
    {
     "name": "stdout",
     "output_type": "stream",
     "text": [
      "RAM (GB): 229.756895232\n"
     ]
    }
   ],
   "source": [
    "import psutil\n",
    "print(\"RAM gb:\", psutil.virtual_memory().available/1e9)"
   ]
  },
  {
   "cell_type": "markdown",
   "id": "4dfef86f-1dd6-4a6f-9bbd-156ac06558b3",
   "metadata": {},
   "source": [
    "### Save"
   ]
  },
  {
   "cell_type": "code",
   "execution_count": 2,
   "id": "5741b415-ecf2-43e3-9f6b-5799973f100e",
   "metadata": {},
   "outputs": [],
   "source": [
    "base = Path('/pscratch/sd/v/vtorresg/desi-lenses/outlier_spectra_tiles/')"
   ]
  },
  {
   "cell_type": "code",
   "execution_count": 3,
   "id": "7fa7c635-a2de-4a3c-97d5-4485ad363f9d",
   "metadata": {},
   "outputs": [
    {
     "data": {
      "text/plain": [
       "14199"
      ]
     },
     "execution_count": 3,
     "metadata": {},
     "output_type": "execute_result"
    }
   ],
   "source": [
    "files = [str(x) for x in base.iterdir()]\n",
    "len(files)"
   ]
  },
  {
   "cell_type": "code",
   "execution_count": 5,
   "id": "773754d0-1d2f-4792-a7b7-8f10b6946e74",
   "metadata": {},
   "outputs": [],
   "source": [
    "OUTPUT_DIR = Path(\"/pscratch/sd/v/vtorresg/desi-lenses/outlier_spectra_tiles/\")\n",
    "BANDS: Tuple[str, ...] = (\"B\", \"R\", \"Z\")"
   ]
  },
  {
   "cell_type": "code",
   "execution_count": 6,
   "id": "9aac902c-5f10-48bf-941f-74944d6330a6",
   "metadata": {},
   "outputs": [],
   "source": [
    "@dataclass\n",
    "class Metadata:\n",
    "    fib_counts: List[int]\n",
    "    union_waves: Dict[str, np.ndarray]\n",
    "    band_offsets: Dict[str, int]\n",
    "    total_rows: int\n",
    "    waves_by_file: List[Dict[str, np.ndarray]]\n",
    "    ids_by_file: List[np.ndarray]\n",
    "    tiles_by_file: List[np.ndarray]\n",
    "    nights_by_file: List[np.ndarray]\n",
    "    petals_by_file: List[np.ndarray]\n",
    "    fibers_by_file: List[np.ndarray]\n",
    "\n",
    "\n",
    "def list_tile_fits(directory: Path) -> List[Path]:\n",
    "    files = sorted(p for p in directory.glob(\"*.fits\") if p.is_file())\n",
    "    if not files:\n",
    "        raise FileNotFoundError(f\"No file in {directory}\")\n",
    "    return files\n",
    "\n",
    "\n",
    "def gather_metadata(files: Sequence[Path], bands: Sequence[str]) -> Metadata:\n",
    "    fib_counts: List[int] = []\n",
    "    total_rows = 0\n",
    "    waves_accum: Dict[str, List[np.ndarray]] = {b: [] for b in bands}\n",
    "    waves_by_file: List[Dict[str, np.ndarray]] = []\n",
    "    ids_by_file: List[np.ndarray] = []\n",
    "    tiles_by_file: List[np.ndarray] = []\n",
    "    nights_by_file: List[np.ndarray] = []\n",
    "    petals_by_file: List[np.ndarray] = []\n",
    "    fibers_by_file: List[np.ndarray] = []\n",
    "\n",
    "    for jj, path in enumerate(files):\n",
    "        print(f' {jj}/{len(files)}')\n",
    "\n",
    "        with fits.open(path, memmap=True) as hdul:\n",
    "            tab = hdul[1].data\n",
    "\n",
    "            ids = np.asarray(tab[\"TARGETID\"], dtype=np.int64)\n",
    "            tiles = np.asarray(tab[\"TILEID\"], dtype=np.int32)\n",
    "            nights = np.asarray(tab[\"NIGHT\"], dtype=np.int32)\n",
    "            petals = np.asarray(tab[\"PETAL\"], dtype=np.int16)\n",
    "            fibers = np.asarray(tab[\"FIBER\"], dtype=np.int32)\n",
    "\n",
    "            n = ids.size\n",
    "            fib_counts.append(n)\n",
    "            total_rows += n\n",
    "\n",
    "            ids_by_file.append(ids)\n",
    "            tiles_by_file.append(tiles)\n",
    "            nights_by_file.append(nights)\n",
    "            petals_by_file.append(petals)\n",
    "            fibers_by_file.append(fibers)\n",
    "\n",
    "            file_waves: Dict[str, np.ndarray] = {}\n",
    "            for band in bands:\n",
    "                wave = np.asarray(tab[f\"WAVE_{band}\"][0], dtype=np.float64)\n",
    "                file_waves[band] = wave\n",
    "                waves_accum[band].append(wave)\n",
    "            waves_by_file.append(file_waves)\n",
    "\n",
    "    union_waves = {band: np.unique(np.concatenate(waves_accum[band]))\n",
    "                   for band in bands}\n",
    "\n",
    "    band_offsets: Dict[str, int] = {}\n",
    "    offset = 0\n",
    "    for band in bands:\n",
    "        band_offsets[band] = offset\n",
    "        offset += union_waves[band].size\n",
    "\n",
    "    return Metadata(fib_counts=fib_counts,\n",
    "                    union_waves=union_waves,\n",
    "                band_offsets=band_offsets,\n",
    "                total_rows=total_rows,\n",
    "                waves_by_file=waves_by_file,\n",
    "                ids_by_file=ids_by_file,\n",
    "                tiles_by_file=tiles_by_file,\n",
    "                nights_by_file=nights_by_file,\n",
    "                petals_by_file=petals_by_file,\n",
    "                fibers_by_file=fibers_by_file)\n",
    "\n",
    "\n",
    "def allocate_matrices(md: Metadata, bands: Sequence[str]):\n",
    "    total_cols = sum(md.union_waves[band].size for band in bands)\n",
    "    flux = np.zeros((md.total_rows, total_cols), dtype=np.float32)\n",
    "    wave_grid = np.concatenate([md.union_waves[band] for band in bands])\n",
    "\n",
    "    target_ids = np.empty(md.total_rows, dtype=np.int64)\n",
    "    tile_ids = np.empty(md.total_rows, dtype=np.int32)\n",
    "    nights = np.empty(md.total_rows, dtype=np.int32)\n",
    "    petals = np.empty(md.total_rows, dtype=np.int16)\n",
    "    fibers = np.empty(md.total_rows, dtype=np.int32)\n",
    "\n",
    "    return wave_grid, flux, target_ids, tile_ids, nights, petals, fibers\n",
    "\n",
    "\n",
    "def fill_flux_matrix(files: Sequence[Path], bands: Sequence[str], md: Metadata, flux: np.ndarray,\n",
    "                     target_ids: np.ndarray, tile_ids: np.ndarray, nights: np.ndarray, petals: np.ndarray,\n",
    "                     fibers: np.ndarray) -> None:\n",
    "    row = 0\n",
    "    for i, (path, n_rows) in enumerate(zip(files, md.fib_counts)):\n",
    "        print(f'--- {i}/{len(files)}')\n",
    "        with fits.open(path, memmap=True) as hdul:\n",
    "            tab = hdul[1].data\n",
    "\n",
    "            target_ids[row:row + n_rows] = md.ids_by_file[i]\n",
    "            tile_ids[row:row + n_rows] = md.tiles_by_file[i]\n",
    "            nights[row:row + n_rows] = md.nights_by_file[i]\n",
    "            petals[row:row + n_rows] = md.petals_by_file[i]\n",
    "            fibers[row:row + n_rows] = md.fibers_by_file[i]\n",
    "\n",
    "            dest_rows = np.arange(n_rows)[:, None]\n",
    "            for band in bands:\n",
    "                wave = md.waves_by_file[i][band]\n",
    "                idx = np.searchsorted(md.union_waves[band], wave)\n",
    "                dest = flux[row:row + n_rows,\n",
    "                            md.band_offsets[band]: md.band_offsets[band] + md.union_waves[band].size]\n",
    "                band_flux = [np.asarray(arr, dtype=np.float32) for arr in tab[f\"FLUX_{band}\"]]\n",
    "                dest[dest_rows, idx] = np.vstack(band_flux)\n",
    "\n",
    "        row += n_rows\n",
    "\n",
    "\n",
    "def build_flux_cube(output_dir: Path, bands: Sequence[str]):\n",
    "    files = list_tile_fits(output_dir)\n",
    "    metadata = gather_metadata(files, bands)\n",
    "    (wave_grid, flux, target_ids, tile_ids, nights, petals, fibers) = allocate_matrices(metadata, bands)\n",
    "    fill_flux_matrix(files, bands, metadata, flux, target_ids, tile_ids, nights, petals, fibers)\n",
    "    return {\"wave_grid\": wave_grid,\n",
    "            \"flux\": flux,\n",
    "            \"target_id\": target_ids,\n",
    "            \"tile_id\": tile_ids,\n",
    "            \"night\": nights,\n",
    "            \"petal\": petals,\n",
    "            \"fiber\": fibers,\n",
    "            \"band_offsets\": metadata.band_offsets,\n",
    "            \"union_waves\": metadata.union_waves}"
   ]
  },
  {
   "cell_type": "code",
   "execution_count": 7,
   "id": "e0624440-cb5b-43d7-994c-72c0c5a952a8",
   "metadata": {
    "scrolled": true
   },
   "outputs": [],
   "source": [
    "# result = build_flux_cube(OUTPUT_DIR, BANDS)\n",
    "# print(\"Flux matrix shape:\", result[\"flux\"].shape, \"| wave grid length:\", result[\"wave_grid\"].size)"
   ]
  },
  {
   "cell_type": "code",
   "execution_count": 13,
   "id": "2baa9b0d-44bf-48a6-9f85-20a5b3124373",
   "metadata": {},
   "outputs": [],
   "source": [
    "# np.savez('/pscratch/sd/v/vtorresg/desi-lenses/matrix_outliers.npz',\n",
    "#         flux=result[\"flux\"], wave=result[\"wave_grid\"], targets=result['target_id'],\n",
    "#         tiles=result[\"tile_id\"], nights=result['night'], petals=result['petal'],\n",
    "#         fibers=res∫ult['fiber'], band_off=result['band_offsets'], union_w=result['union_waves']\n",
    "#        )"
   ]
  },
  {
   "cell_type": "code",
   "execution_count": 8,
   "id": "e9dbaab0-20f7-4d4e-a1b8-71695c46cb61",
   "metadata": {},
   "outputs": [],
   "source": [
    "reducer = umap.UMAP(n_neighbors=100, min_dist=1.0, n_components=2,\n",
    "                        metric='cosine', n_jobs=-1)"
   ]
  },
  {
   "cell_type": "markdown",
   "id": "8eb7b76b-240a-463e-8837-997e7d1ea84f",
   "metadata": {},
   "source": [
    "### Read"
   ]
  },
  {
   "cell_type": "code",
   "execution_count": 5,
   "id": "af1df4d9-ae6c-4263-b9e5-89e24355dfec",
   "metadata": {},
   "outputs": [],
   "source": [
    "data = np.load('/pscratch/sd/v/vtorresg/desi-lenses/matrix_outliers.npz')\n",
    "flux = data['flux']"
   ]
  },
  {
   "cell_type": "code",
   "execution_count": 6,
   "id": "d77fa5df-73f7-46fc-a4a3-5a19c9d983d6",
   "metadata": {},
   "outputs": [
    {
     "data": {
      "text/plain": [
       "(1143255, 7958)"
      ]
     },
     "execution_count": 6,
     "metadata": {},
     "output_type": "execute_result"
    }
   ],
   "source": [
    "flux.shape"
   ]
  },
  {
   "cell_type": "code",
   "execution_count": 7,
   "id": "f24e134a-8594-4561-9e59-82f31c377ee9",
   "metadata": {},
   "outputs": [],
   "source": [
    "X = flux.astype(np.float32, copy=False)"
   ]
  },
  {
   "cell_type": "code",
   "execution_count": null,
   "id": "04040e91-c42d-4670-a8ec-c0d6bc2c5ef2",
   "metadata": {},
   "outputs": [],
   "source": [
    "pca = PCA(n_components=200, svd_solver=\"randomized\", random_state=42)\n",
    "Xp = pca.fit_transform(flux.astype(np.float32))"
   ]
  },
  {
   "cell_type": "code",
   "execution_count": 8,
   "id": "0ff99ffc-a541-4f16-89ba-cbd4e992bef9",
   "metadata": {},
   "outputs": [],
   "source": [
    "reducer = umap.UMAP(n_neighbors=100, min_dist=1.0, n_components=2,\n",
    "                    metric='cosine', n_jobs=-1)"
   ]
  },
  {
   "cell_type": "code",
   "execution_count": null,
   "id": "3d8df811-1fc2-4f7a-a6ef-25d5a72b2233",
   "metadata": {},
   "outputs": [],
   "source": [
    "reducer.fit(X)"
   ]
  },
  {
   "cell_type": "code",
   "execution_count": null,
   "id": "72a25a2b-fee1-4aa8-a80c-6434f9e32ea5",
   "metadata": {},
   "outputs": [],
   "source": [
    "N = X.shape[0]\n",
    "B = min(N, 500_000)\n",
    "Y = np.empty((N, 2), dtype=np.float32)"
   ]
  },
  {
   "cell_type": "code",
   "execution_count": null,
   "id": "f5212d16-c65f-4e4c-b7e2-8192a84a0ba9",
   "metadata": {},
   "outputs": [],
   "source": [
    "for i in tqdm(range(0, N, B), desc=\"UMAP transform\", unit=\"rows\"):\n",
    "    Y[i:i+B] = reducer.transform(X[i:i+B])"
   ]
  },
  {
   "cell_type": "code",
   "execution_count": null,
   "id": "9cdb2ce9-ad3c-4a4d-89a2-4a74556c69d7",
   "metadata": {},
   "outputs": [],
   "source": []
  },
  {
   "cell_type": "code",
   "execution_count": null,
   "id": "21cd9c13-c740-4432-b9f4-7797e6db8b29",
   "metadata": {},
   "outputs": [],
   "source": []
  },
  {
   "cell_type": "code",
   "execution_count": null,
   "id": "e6b3c43f-bd58-4d98-9909-895d73bda899",
   "metadata": {},
   "outputs": [],
   "source": []
  },
  {
   "cell_type": "code",
   "execution_count": null,
   "id": "cd761504-005a-4179-a85a-feb980c9d042",
   "metadata": {},
   "outputs": [],
   "source": [
    "npz_path = \"/pscratch/sd/v/vtorresg/desi-lenses/matrix_outliers.npz\"\n",
    "d = np.load(npz_path, allow_pickle=True)\n",
    "\n",
    "flux = d[\"flux\"]\n",
    "wavegrid = d[\"wave\"]\n",
    "targets = d[\"targets\"]\n",
    "tiles = d[\"tiles\"]\n",
    "nights = d[\"nights\"]\n",
    "petals = d[\"petals\"]\n",
    "fibers = d[\"fibers\"]\n",
    "band_off = d[\"band_off\"].item()\n",
    "union_w = d[\"union_w\"].item()"
   ]
  },
  {
   "cell_type": "code",
   "execution_count": null,
   "id": "9d03f3c5-157b-4348-8937-d8a29e628c1d",
   "metadata": {},
   "outputs": [],
   "source": [
    "umap1 = embedding[:, 0].astype(np.float32, copy=False)\n",
    "umap2 = embedding[:, 1].astype(np.float32, copy=False)"
   ]
  },
  {
   "cell_type": "code",
   "execution_count": null,
   "id": "061d04af-5dfd-48c1-8bd3-0461696350b0",
   "metadata": {},
   "outputs": [],
   "source": [
    "N = flux.shape[0]"
   ]
  },
  {
   "cell_type": "code",
   "execution_count": null,
   "id": "ba8fd491-41eb-486e-b78b-f1d7aa2a3059",
   "metadata": {},
   "outputs": [],
   "source": [
    "col_tid = fits.Column(name=\"TARGETID\", format=\"K\", array=targets.astype(np.int64, copy=False))\n",
    "\n",
    "col_tile = fits.Column(name=\"TILEID\",  format=\"J\", array=tiles.astype(np.int32, copy=False))\n",
    "col_fiber= fits.Column(name=\"FIBER\",   format=\"J\", array=fibers.astype(np.int32, copy=False))\n",
    "col_petal= fits.Column(name=\"PETAL\",   format=\"J\", array=petals.astype(np.int32, copy=False))"
   ]
  },
  {
   "cell_type": "code",
   "execution_count": null,
   "id": "7b5412e2-e88c-444b-ad24-8af1048b1c34",
   "metadata": {},
   "outputs": [],
   "source": [
    "if np.issubdtype(nights.dtype, np.integer):\n",
    "    col_night = fits.Column(name=\"NIGHT\", format=\"K\", array=nights.astype(np.int64, copy=False))\n",
    "else:\n",
    "    nights_str = np.asarray(nights).astype(str)\n",
    "    width = max(5, min(32, int(np.max([len(s) for s in nights_str]))))\n",
    "    col_night = fits.Column(name=\"NIGHT\", format=f\"{width}A\",\n",
    "                            array=np.char.encode(nights_str, encoding=\"ascii\", errors=\"replace\"))"
   ]
  },
  {
   "cell_type": "code",
   "execution_count": null,
   "id": "2915d348-d32c-4e9a-b59c-58b7ab85057a",
   "metadata": {},
   "outputs": [],
   "source": [
    "col_u1 = fits.Column(name=\"UMAP1\", format=\"E\", array=umap1)\n",
    "col_u2 = fits.Column(name=\"UMAP2\", format=\"E\", array=umap2)\n",
    "\n",
    "meta_hdu = fits.BinTableHDU.from_columns([col_tid, col_tile, col_night, col_petal, col_fiber, col_u1, col_u2])\n",
    "meta_hdu.header[\"EXTNAME\"] = \"META\""
   ]
  },
  {
   "cell_type": "code",
   "execution_count": null,
   "id": "545b550a-dd12-4c93-9ff0-a0ae73e8598e",
   "metadata": {},
   "outputs": [],
   "source": [
    "flux_hdu = fits.ImageHDU(data=flux, name=\"FLUX\")\n",
    "flux_hdu.header[\"NOBJ\"] = N\n",
    "flux_hdu.header[\"NLAMBDA\"] = flux.shape[1]\n",
    "\n",
    "for b, off in band_off.items():\n",
    "    flux_hdu.header[f\"OFF_{b.upper()}\"] = int(off)"
   ]
  },
  {
   "cell_type": "code",
   "execution_count": null,
   "id": "193a554c-2066-4e34-bf8c-2da96d920674",
   "metadata": {},
   "outputs": [],
   "source": [
    "wave_hdu = fits.ImageHDU(data=wavegrid, name=\"WAVEGRID\")"
   ]
  },
  {
   "cell_type": "code",
   "execution_count": null,
   "id": "2800ba34-871a-4789-bba1-c2a1bf36019b",
   "metadata": {},
   "outputs": [],
   "source": [
    "band_hdus = []\n",
    "bands_order = \"\".join([b.upper() for b in [\"B\",\"R\",\"Z\"] if b.upper() in union_w])\n",
    "for b, arr in union_w.items():\n",
    "    band_hdus.append(fits.ImageHDU(data=np.asarray(arr), name=f\"WAVE_{b.upper()}\"))"
   ]
  },
  {
   "cell_type": "code",
   "execution_count": null,
   "id": "ef28efad-6a2f-4bab-8e2e-0b58ed4d0771",
   "metadata": {},
   "outputs": [],
   "source": [
    "primary_hdu = fits.PrimaryHDU()\n",
    "hdr = primary_hdu.header"
   ]
  },
  {
   "cell_type": "code",
   "execution_count": null,
   "id": "990b6408-f34a-468d-8487-db2d10587dba",
   "metadata": {},
   "outputs": [],
   "source": [
    "hdul = fits.HDUList([primary_hdu, flux_hdu, wave_hdu, meta_hdu] + band_hdus)"
   ]
  },
  {
   "cell_type": "code",
   "execution_count": null,
   "id": "0a877107-b124-470b-a3c0-cb4221ac355f",
   "metadata": {},
   "outputs": [],
   "source": [
    "out_fits = \"/pscratch/sd/v/vtorresg/desi-lenses/matrix_outliers.fits.gz\"\n",
    "hdul.writeto(out_fits, overwrite=True)"
   ]
  }
 ],
 "metadata": {
  "kernelspec": {
   "display_name": "NERSC Python",
   "language": "python",
   "name": "python3"
  },
  "language_info": {
   "codemirror_mode": {
    "name": "ipython",
    "version": 3
   },
   "file_extension": ".py",
   "mimetype": "text/x-python",
   "name": "python",
   "nbconvert_exporter": "python",
   "pygments_lexer": "ipython3",
   "version": "3.11.7"
  }
 },
 "nbformat": 4,
 "nbformat_minor": 5
}
