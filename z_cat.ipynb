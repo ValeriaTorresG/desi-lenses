{
 "cells": [
  {
   "cell_type": "code",
   "execution_count": 9,
   "id": "ac6495ee-a59d-4e1e-a6a1-865246537fdf",
   "metadata": {},
   "outputs": [],
   "source": [
    "from astropy.table import Table\n",
    "import pandas as pd\n",
    "import time as t\n",
    "import numpy as np"
   ]
  },
  {
   "cell_type": "code",
   "execution_count": 2,
   "id": "1ad686bc-2da4-4fde-8d2d-03d7571ab1fc",
   "metadata": {},
   "outputs": [],
   "source": [
    "base = '/global/cfs/cdirs/desi/public/dr1/spectro/redux/iron/zcatalog/v1'"
   ]
  },
  {
   "cell_type": "code",
   "execution_count": 3,
   "id": "0180a817-4bf6-4e82-aa30-b6eaf9b76da1",
   "metadata": {},
   "outputs": [
    {
     "name": "stderr",
     "output_type": "stream",
     "text": [
      "WARNING: UnitsWarning: 'nanomaggy' did not parse as fits unit: At col 0, Unit 'nanomaggy' not supported by the FITS standard.  If this is meant to be a custom unit, define it with 'u.def_unit'. To have it recognized inside a file reader or other code, enable it with 'u.add_enabled_units'. For details, see https://docs.astropy.org/en/latest/units/combining_and_defining.html [astropy.units.core]\n",
      "WARNING: UnitsWarning: 'nanomaggy^-2' did not parse as fits unit: At col 0, Unit 'nanomaggy' not supported by the FITS standard.  If this is meant to be a custom unit, define it with 'u.def_unit'. To have it recognized inside a file reader or other code, enable it with 'u.add_enabled_units'. For details, see https://docs.astropy.org/en/latest/units/combining_and_defining.html [astropy.units.core]\n"
     ]
    },
    {
     "data": {
      "text/plain": [
       "28425963"
      ]
     },
     "execution_count": 3,
     "metadata": {},
     "output_type": "execute_result"
    }
   ],
   "source": [
    "ini = t.time()\n",
    "cat = Table.read(f'{base}/zall-pix-iron.fits')\n",
    "end = t.time()\n",
    "len(cat)"
   ]
  },
  {
   "cell_type": "code",
   "execution_count": 5,
   "id": "7e10883f-d455-4ed8-9b99-ca2afebba73d",
   "metadata": {},
   "outputs": [
    {
     "data": {
      "text/html": [
       "<div><i>Table length=5</i>\n",
       "<table id=\"table140522606929488\" class=\"table-striped table-bordered table-condensed\">\n",
       "<thead><tr><th>TARGETID</th><th>SURVEY</th><th>PROGRAM</th><th>HEALPIX</th><th>SPGRPVAL</th><th>Z</th><th>ZERR</th><th>ZWARN</th><th>CHI2</th><th>COEFF</th><th>NPIXELS</th><th>SPECTYPE</th><th>SUBTYPE</th><th>NCOEFF</th><th>DELTACHI2</th><th>COADD_FIBERSTATUS</th><th>TARGET_RA</th><th>TARGET_DEC</th><th>PMRA</th><th>PMDEC</th><th>REF_EPOCH</th><th>FA_TARGET</th><th>FA_TYPE</th><th>OBJTYPE</th><th>SUBPRIORITY</th><th>OBSCONDITIONS</th><th>RELEASE</th><th>BRICKNAME</th><th>BRICKID</th><th>BRICK_OBJID</th><th>MORPHTYPE</th><th>EBV</th><th>FLUX_G</th><th>FLUX_R</th><th>FLUX_Z</th><th>FLUX_W1</th><th>FLUX_W2</th><th>FLUX_IVAR_G</th><th>FLUX_IVAR_R</th><th>FLUX_IVAR_Z</th><th>FLUX_IVAR_W1</th><th>FLUX_IVAR_W2</th><th>FIBERFLUX_G</th><th>FIBERFLUX_R</th><th>FIBERFLUX_Z</th><th>FIBERTOTFLUX_G</th><th>FIBERTOTFLUX_R</th><th>FIBERTOTFLUX_Z</th><th>MASKBITS</th><th>SERSIC</th><th>SHAPE_R</th><th>SHAPE_E1</th><th>SHAPE_E2</th><th>REF_ID</th><th>REF_CAT</th><th>GAIA_PHOT_G_MEAN_MAG</th><th>GAIA_PHOT_BP_MEAN_MAG</th><th>GAIA_PHOT_RP_MEAN_MAG</th><th>PARALLAX</th><th>PHOTSYS</th><th>PRIORITY_INIT</th><th>NUMOBS_INIT</th><th>CMX_TARGET</th><th>DESI_TARGET</th><th>BGS_TARGET</th><th>MWS_TARGET</th><th>SCND_TARGET</th><th>SV1_DESI_TARGET</th><th>SV1_BGS_TARGET</th><th>SV1_MWS_TARGET</th><th>SV1_SCND_TARGET</th><th>SV2_DESI_TARGET</th><th>SV2_BGS_TARGET</th><th>SV2_MWS_TARGET</th><th>SV2_SCND_TARGET</th><th>SV3_DESI_TARGET</th><th>SV3_BGS_TARGET</th><th>SV3_MWS_TARGET</th><th>SV3_SCND_TARGET</th><th>PLATE_RA</th><th>PLATE_DEC</th><th>COADD_NUMEXP</th><th>COADD_EXPTIME</th><th>COADD_NUMNIGHT</th><th>COADD_NUMTILE</th><th>MEAN_DELTA_X</th><th>RMS_DELTA_X</th><th>MEAN_DELTA_Y</th><th>RMS_DELTA_Y</th><th>MEAN_PSF_TO_FIBER_SPECFLUX</th><th>MEAN_FIBER_RA</th><th>STD_FIBER_RA</th><th>MEAN_FIBER_DEC</th><th>STD_FIBER_DEC</th><th>MIN_MJD</th><th>MAX_MJD</th><th>MEAN_MJD</th><th>TSNR2_GPBDARK_B</th><th>TSNR2_ELG_B</th><th>TSNR2_GPBBRIGHT_B</th><th>TSNR2_LYA_B</th><th>TSNR2_BGS_B</th><th>TSNR2_GPBBACKUP_B</th><th>TSNR2_QSO_B</th><th>TSNR2_LRG_B</th><th>TSNR2_GPBDARK_R</th><th>TSNR2_ELG_R</th><th>TSNR2_GPBBRIGHT_R</th><th>TSNR2_LYA_R</th><th>TSNR2_BGS_R</th><th>TSNR2_GPBBACKUP_R</th><th>TSNR2_QSO_R</th><th>TSNR2_LRG_R</th><th>TSNR2_GPBDARK_Z</th><th>TSNR2_ELG_Z</th><th>TSNR2_GPBBRIGHT_Z</th><th>TSNR2_LYA_Z</th><th>TSNR2_BGS_Z</th><th>TSNR2_GPBBACKUP_Z</th><th>TSNR2_QSO_Z</th><th>TSNR2_LRG_Z</th><th>TSNR2_GPBDARK</th><th>TSNR2_ELG</th><th>TSNR2_GPBBRIGHT</th><th>TSNR2_LYA</th><th>TSNR2_BGS</th><th>TSNR2_GPBBACKUP</th><th>TSNR2_QSO</th><th>TSNR2_LRG</th><th>MAIN_NSPEC</th><th>MAIN_PRIMARY</th><th>SV_NSPEC</th><th>SV_PRIMARY</th><th>ZCAT_NSPEC</th><th>ZCAT_PRIMARY</th><th>DESINAME</th></tr></thead>\n",
       "<thead><tr><th></th><th></th><th></th><th></th><th></th><th></th><th></th><th></th><th></th><th></th><th></th><th></th><th></th><th></th><th></th><th></th><th>deg</th><th>deg</th><th>mas / yr</th><th>mas / yr</th><th>yr</th><th></th><th></th><th></th><th></th><th></th><th></th><th></th><th></th><th></th><th></th><th>mag</th><th>nanomaggy</th><th>nanomaggy</th><th>nanomaggy</th><th>nanomaggy</th><th>nanomaggy</th><th>nanomaggy^-2</th><th>nanomaggy^-2</th><th>nanomaggy^-2</th><th>nanomaggy^-2</th><th>nanomaggy^-2</th><th>nanomaggy</th><th>nanomaggy</th><th>nanomaggy</th><th>nanomaggy</th><th>nanomaggy</th><th>nanomaggy</th><th></th><th></th><th>arcsec</th><th></th><th></th><th></th><th></th><th>mag</th><th>mag</th><th>mag</th><th>mas</th><th></th><th></th><th></th><th></th><th></th><th></th><th></th><th></th><th></th><th></th><th></th><th></th><th></th><th></th><th></th><th></th><th></th><th></th><th></th><th></th><th>deg</th><th>deg</th><th></th><th>s</th><th></th><th></th><th>mm</th><th>mm</th><th>mm</th><th>mm</th><th></th><th>deg</th><th>arcsec</th><th>deg</th><th>arcsec</th><th></th><th></th><th></th><th></th><th></th><th></th><th></th><th></th><th></th><th></th><th></th><th></th><th></th><th></th><th></th><th></th><th></th><th></th><th></th><th></th><th></th><th></th><th></th><th></th><th></th><th></th><th></th><th></th><th></th><th></th><th></th><th></th><th></th><th></th><th></th><th></th><th></th><th></th><th></th><th></th><th></th><th></th></tr></thead>\n",
       "<thead><tr><th>int64</th><th>bytes7</th><th>bytes6</th><th>int32</th><th>int32</th><th>float64</th><th>float64</th><th>int64</th><th>float64</th><th>float64[10]</th><th>int64</th><th>bytes6</th><th>bytes20</th><th>int64</th><th>float64</th><th>int32</th><th>float64</th><th>float64</th><th>float32</th><th>float32</th><th>float32</th><th>int64</th><th>uint8</th><th>bytes3</th><th>float64</th><th>int32</th><th>int16</th><th>bytes8</th><th>int32</th><th>int32</th><th>bytes4</th><th>float32</th><th>float32</th><th>float32</th><th>float32</th><th>float32</th><th>float32</th><th>float32</th><th>float32</th><th>float32</th><th>float32</th><th>float32</th><th>float32</th><th>float32</th><th>float32</th><th>float32</th><th>float32</th><th>float32</th><th>int16</th><th>float32</th><th>float32</th><th>float32</th><th>float32</th><th>int64</th><th>bytes2</th><th>float32</th><th>float32</th><th>float32</th><th>float32</th><th>bytes1</th><th>int64</th><th>int64</th><th>int64</th><th>int64</th><th>int64</th><th>int64</th><th>int64</th><th>int64</th><th>int64</th><th>int64</th><th>int64</th><th>int64</th><th>int64</th><th>int64</th><th>int64</th><th>int64</th><th>int64</th><th>int64</th><th>int64</th><th>float64</th><th>float64</th><th>int16</th><th>float32</th><th>int16</th><th>int16</th><th>float32</th><th>float32</th><th>float32</th><th>float32</th><th>float32</th><th>float64</th><th>float32</th><th>float64</th><th>float32</th><th>float64</th><th>float64</th><th>float64</th><th>float32</th><th>float32</th><th>float32</th><th>float32</th><th>float32</th><th>float32</th><th>float32</th><th>float32</th><th>float32</th><th>float32</th><th>float32</th><th>float32</th><th>float32</th><th>float32</th><th>float32</th><th>float32</th><th>float32</th><th>float32</th><th>float32</th><th>float32</th><th>float32</th><th>float32</th><th>float32</th><th>float32</th><th>float32</th><th>float32</th><th>float32</th><th>float32</th><th>float32</th><th>float32</th><th>float32</th><th>float32</th><th>int16</th><th>bool</th><th>int16</th><th>bool</th><th>int16</th><th>bool</th><th>bytes22</th></tr></thead>\n",
       "<tr><td>39628473198710603</td><td>cmx</td><td>other</td><td>2152</td><td>2152</td><td>0.8042057637744875</td><td>9.589004434794145e-06</td><td>0</td><td>10003.721982955933</td><td>117.8692939130018 .. 5.6065445634658255</td><td>7928</td><td>GALAXY</td><td>--</td><td>10</td><td>6319.3509159088135</td><td>0</td><td>23.764862479118218</td><td>29.832378962505196</td><td>0.0</td><td>0.0</td><td>2020.9597</td><td>3072</td><td>1</td><td>TGT</td><td>0.20970260241473437</td><td>3</td><td>9010</td><td>0237p297</td><td>494512</td><td>3915</td><td>EXP</td><td>0.05433502</td><td>1.3540096</td><td>2.9762945</td><td>10.3957405</td><td>27.52511</td><td>48.7791</td><td>531.4606</td><td>123.64128</td><td>19.293917</td><td>2.6645064</td><td>0.6410277</td><td>0.4344953</td><td>0.95507884</td><td>3.3359442</td><td>0.43980038</td><td>0.9776775</td><td>3.4928923</td><td>0</td><td>1.0</td><td>1.1636901</td><td>0.18920432</td><td>-0.24198028</td><td>0</td><td>--</td><td>0.0</td><td>0.0</td><td>0.0</td><td>0.0</td><td>S</td><td>3200</td><td>1</td><td>3072</td><td>0</td><td>0</td><td>0</td><td>0</td><td>0</td><td>0</td><td>0</td><td>0</td><td>0</td><td>0</td><td>0</td><td>0</td><td>0</td><td>0</td><td>0</td><td>0</td><td>23.764862479118218</td><td>29.832378962505196</td><td>4</td><td>3600.0</td><td>1</td><td>1</td><td>-0.00675</td><td>0.0091515025</td><td>-0.0055</td><td>0.014124447</td><td>0.71950334</td><td>23.76489350625343</td><td>0.08943564</td><td>29.832358617984326</td><td>0.1715876</td><td>59200.06640136</td><td>59200.12381137</td><td>59200.095110124996</td><td>388.2487</td><td>0.28193328</td><td>75.31641</td><td>283.94504</td><td>1451.2411</td><td>530.06067</td><td>7.442073</td><td>2.1379867</td><td>34921.81</td><td>78.42465</td><td>6280.0347</td><td>0.1178768</td><td>7149.4326</td><td>36527.004</td><td>22.981281</td><td>113.36229</td><td>5.09169e-05</td><td>260.3999</td><td>9.6547765e-06</td><td>0.0</td><td>11533.531</td><td>6.420885e-05</td><td>52.333626</td><td>120.35188</td><td>35310.06</td><td>339.1065</td><td>6355.351</td><td>284.06293</td><td>20134.205</td><td>37057.066</td><td>82.75698</td><td>235.85216</td><td>0</td><td>False</td><td>0</td><td>False</td><td>1</td><td>True</td><td>DESI J023.7648+29.8323</td></tr>\n",
       "<tr><td>39628473198711006</td><td>cmx</td><td>other</td><td>2152</td><td>2152</td><td>-6.853523968808308e-05</td><td>8.066745072147153e-07</td><td>0</td><td>57903.54696439836</td><td>34912.51097753 .. 0.0</td><td>7923</td><td>STAR</td><td>G</td><td>5</td><td>362936.44185345725</td><td>0</td><td>23.786493447441654</td><td>29.866735526508727</td><td>6.529181</td><td>-8.687867</td><td>2015.5</td><td>34359738405</td><td>3</td><td>TGT</td><td>0.7183849074986104</td><td>63</td><td>9010</td><td>0237p297</td><td>494512</td><td>4318</td><td>PSF</td><td>0.053758416</td><td>356.8785</td><td>511.25787</td><td>560.9036</td><td>139.89471</td><td>77.378204</td><td>45.31236</td><td>15.881841</td><td>22.31348</td><td>1.5417026</td><td>0.56227684</td><td>276.58063</td><td>396.22455</td><td>434.7</td><td>276.58063</td><td>396.22455</td><td>434.7</td><td>2048</td><td>0.0</td><td>0.0</td><td>0.0</td><td>0.0</td><td>303005411543024640</td><td>G2</td><td>15.794322</td><td>16.096014</td><td>15.331054</td><td>0.33646914</td><td>S</td><td>2692</td><td>100</td><td>34359738405</td><td>34359738368</td><td>0</td><td>0</td><td>0</td><td>0</td><td>0</td><td>0</td><td>0</td><td>0</td><td>0</td><td>0</td><td>0</td><td>0</td><td>0</td><td>0</td><td>0</td><td>23.786493447441654</td><td>29.866735526508727</td><td>4</td><td>3600.0</td><td>1</td><td>1</td><td>-0.002</td><td>0.0068920245</td><td>-0.00875</td><td>0.01566046</td><td>0.789</td><td>23.78650307581006</td><td>0.09536832</td><td>29.8667033225152</td><td>0.17224741</td><td>59200.06640136</td><td>59200.12381137</td><td>59200.095110124996</td><td>391.36572</td><td>0.28145412</td><td>75.828064</td><td>281.94858</td><td>1451.206</td><td>533.7374</td><td>7.432054</td><td>2.1538317</td><td>34569.508</td><td>76.9094</td><td>6218.0693</td><td>0.12050749</td><td>7081.3955</td><td>36312.17</td><td>22.64249</td><td>111.27708</td><td>5.1708346e-05</td><td>257.65625</td><td>9.809536e-06</td><td>0.0</td><td>11317.173</td><td>6.553233e-05</td><td>51.622177</td><td>118.43867</td><td>34960.875</td><td>334.8471</td><td>6293.8975</td><td>282.0691</td><td>19849.773</td><td>36845.91</td><td>81.696724</td><td>231.86957</td><td>0</td><td>False</td><td>0</td><td>False</td><td>1</td><td>True</td><td>DESI J023.7864+29.8667</td></tr>\n",
       "<tr><td>39628473198711342</td><td>cmx</td><td>other</td><td>2152</td><td>2152</td><td>0.932752477574551</td><td>2.232146096148817e-46</td><td>518</td><td>9.000000000000002e+99</td><td>0.0 .. 0.0</td><td>0</td><td>GALAXY</td><td>--</td><td>10</td><td>0.0</td><td>512</td><td>23.80220668826011</td><td>29.832150182607567</td><td>0.0</td><td>0.0</td><td>2020.9597</td><td>1280</td><td>1</td><td>TGT</td><td>0.7489200605083568</td><td>5</td><td>9010</td><td>0237p297</td><td>494512</td><td>4654</td><td>DEV</td><td>0.053667612</td><td>2.6539938</td><td>11.6347475</td><td>23.4123</td><td>50.11407</td><td>35.76747</td><td>595.7886</td><td>118.594986</td><td>25.252254</td><td>2.1980088</td><td>0.6082852</td><td>1.2104546</td><td>5.3064675</td><td>10.678067</td><td>1.2104546</td><td>5.3064675</td><td>10.678067</td><td>0</td><td>4.0</td><td>0.6114804</td><td>-0.016180348</td><td>-0.099382535</td><td>0</td><td>--</td><td>0.0</td><td>0.0</td><td>0.0</td><td>0.0</td><td>S</td><td>3200</td><td>1</td><td>1280</td><td>0</td><td>0</td><td>0</td><td>0</td><td>0</td><td>0</td><td>0</td><td>0</td><td>0</td><td>0</td><td>0</td><td>0</td><td>0</td><td>0</td><td>0</td><td>0</td><td>23.80220668826011</td><td>29.832150182607567</td><td>0</td><td>0.0</td><td>0</td><td>0</td><td>0.0</td><td>0.0</td><td>0.0</td><td>0.0</td><td>0.7802256</td><td>23.80220668826007</td><td>0.0</td><td>29.832150182607588</td><td>0.0</td><td>59200.06640136</td><td>59200.12381137</td><td>59200.095110124996</td><td>338.15836</td><td>0.24242522</td><td>63.8316</td><td>256.225</td><td>1221.6569</td><td>495.02747</td><td>6.752914</td><td>1.8175325</td><td>30315.686</td><td>68.26456</td><td>5321.479</td><td>0.10957036</td><td>6052.314</td><td>34197.883</td><td>21.096712</td><td>96.928055</td><td>4.4532164e-05</td><td>227.47864</td><td>8.22608e-06</td><td>0.0</td><td>9823.95</td><td>6.0326263e-05</td><td>48.278263</td><td>103.31622</td><td>30653.844</td><td>295.98563</td><td>5385.3105</td><td>256.33456</td><td>17097.922</td><td>34692.91</td><td>76.12789</td><td>202.06181</td><td>0</td><td>False</td><td>0</td><td>False</td><td>1</td><td>True</td><td>DESI J023.8022+29.8321</td></tr>\n",
       "<tr><td>39628473198711925</td><td>cmx</td><td>other</td><td>2152</td><td>2152</td><td>0.3907232662864259</td><td>2.031380675195223e-05</td><td>0</td><td>10482.608320593834</td><td>144.5639670799483 .. 9.273205199868489</td><td>7928</td><td>GALAXY</td><td>--</td><td>10</td><td>3172.371772259474</td><td>0</td><td>23.83217589491575</td><td>29.85817584494928</td><td>0.0</td><td>0.0</td><td>2020.9597</td><td>9007199254742272</td><td>1</td><td>TGT</td><td>0.7726324222164974</td><td>7</td><td>9010</td><td>0237p297</td><td>494512</td><td>5237</td><td>DEV</td><td>0.05372342</td><td>3.122899</td><td>13.893675</td><td>35.096653</td><td>78.42745</td><td>54.463345</td><td>436.55234</td><td>94.30665</td><td>18.671127</td><td>1.7699409</td><td>0.5242132</td><td>1.1380273</td><td>5.063046</td><td>12.789703</td><td>1.1380273</td><td>5.063046</td><td>12.789703</td><td>0</td><td>4.0</td><td>1.0869373</td><td>0.03265445</td><td>-0.2661663</td><td>0</td><td>--</td><td>0.0</td><td>0.0</td><td>0.0</td><td>0.0</td><td>S</td><td>3200</td><td>1</td><td>9007199254742272</td><td>0</td><td>0</td><td>0</td><td>0</td><td>0</td><td>0</td><td>0</td><td>0</td><td>0</td><td>0</td><td>0</td><td>0</td><td>0</td><td>0</td><td>0</td><td>0</td><td>23.83217589491575</td><td>29.85817584494928</td><td>4</td><td>3600.0</td><td>1</td><td>1</td><td>-0.00575</td><td>0.008587782</td><td>-0.005</td><td>0.014159802</td><td>0.7242465</td><td>23.832202340272204</td><td>0.09157907</td><td>29.858157334206687</td><td>0.17522578</td><td>59200.06640136</td><td>59200.12381137</td><td>59200.095110124996</td><td>375.17905</td><td>0.27009046</td><td>72.77661</td><td>271.11627</td><td>1394.7985</td><td>515.6317</td><td>7.1399965</td><td>2.0594337</td><td>33608.543</td><td>75.25513</td><td>6048.8154</td><td>0.11512724</td><td>6905.235</td><td>35444.812</td><td>22.179056</td><td>108.86939</td><td>4.9112103e-05</td><td>253.57288</td><td>9.313946e-06</td><td>0.0</td><td>11201.529</td><td>6.239456e-05</td><td>51.01129</td><td>116.89887</td><td>33983.723</td><td>329.09808</td><td>6121.592</td><td>271.23138</td><td>19501.562</td><td>35960.445</td><td>80.330345</td><td>227.8277</td><td>0</td><td>False</td><td>0</td><td>False</td><td>1</td><td>True</td><td>DESI J023.8321+29.8581</td></tr>\n",
       "<tr><td>39628473202901028</td><td>cmx</td><td>other</td><td>2152</td><td>2152</td><td>0.6658030075420444</td><td>7.591306729256189e-05</td><td>0</td><td>8802.139167740941</td><td>72.0279328559138 .. 5.3693645159123555</td><td>7927</td><td>GALAXY</td><td>--</td><td>10</td><td>182.7902808263898</td><td>0</td><td>23.86666837272571</td><td>29.816396931904674</td><td>0.0</td><td>0.0</td><td>2020.9597</td><td>1024</td><td>1</td><td>TGT</td><td>0.6730120292335235</td><td>1</td><td>9010</td><td>0240p297</td><td>494513</td><td>36</td><td>REX</td><td>0.053277697</td><td>0.3315621</td><td>1.4045097</td><td>4.2912917</td><td>24.67059</td><td>14.502599</td><td>1265.9268</td><td>370.4553</td><td>56.13948</td><td>2.7109258</td><td>0.66241664</td><td>0.18208638</td><td>0.7713248</td><td>2.35668</td><td>0.18208638</td><td>0.7713248</td><td>2.35668</td><td>0</td><td>1.0</td><td>0.44485623</td><td>0.0</td><td>0.0</td><td>0</td><td>--</td><td>0.0</td><td>0.0</td><td>0.0</td><td>0.0</td><td>S</td><td>3200</td><td>1</td><td>1024</td><td>0</td><td>0</td><td>0</td><td>0</td><td>0</td><td>0</td><td>0</td><td>0</td><td>0</td><td>0</td><td>0</td><td>0</td><td>0</td><td>0</td><td>0</td><td>0</td><td>23.86666837272571</td><td>29.816396931904674</td><td>4</td><td>3600.0</td><td>1</td><td>1</td><td>-0.004</td><td>0.0077781747</td><td>-0.005</td><td>0.014866069</td><td>0.7623236</td><td>23.866686765913187</td><td>0.09584793</td><td>29.816378608013736</td><td>0.1840463</td><td>59200.06640136</td><td>59200.12381137</td><td>59200.095110124996</td><td>361.0264</td><td>0.26642728</td><td>70.09447</td><td>267.7176</td><td>1370.126</td><td>494.9147</td><td>7.0310254</td><td>2.0363998</td><td>34295.836</td><td>75.768845</td><td>6172.173</td><td>0.12394647</td><td>6982.7026</td><td>35970.996</td><td>22.314608</td><td>109.80813</td><td>5.5491357e-05</td><td>252.79706</td><td>1.0543455e-05</td><td>0.0</td><td>11161.663</td><td>7.045768e-05</td><td>50.729893</td><td>116.49232</td><td>34656.863</td><td>328.83234</td><td>6242.267</td><td>267.84152</td><td>19514.492</td><td>36465.91</td><td>80.07552</td><td>228.33685</td><td>0</td><td>False</td><td>0</td><td>False</td><td>1</td><td>True</td><td>DESI J023.8666+29.8163</td></tr>\n",
       "</table></div>"
      ],
      "text/plain": [
       "<Table length=5>\n",
       "     TARGETID     SURVEY PROGRAM ... ZCAT_PRIMARY        DESINAME       \n",
       "                                 ...                                    \n",
       "      int64       bytes7  bytes6 ...     bool            bytes22        \n",
       "----------------- ------ ------- ... ------------ ----------------------\n",
       "39628473198710603    cmx   other ...         True DESI J023.7648+29.8323\n",
       "39628473198711006    cmx   other ...         True DESI J023.7864+29.8667\n",
       "39628473198711342    cmx   other ...         True DESI J023.8022+29.8321\n",
       "39628473198711925    cmx   other ...         True DESI J023.8321+29.8581\n",
       "39628473202901028    cmx   other ...         True DESI J023.8666+29.8163"
      ]
     },
     "execution_count": 5,
     "metadata": {},
     "output_type": "execute_result"
    }
   ],
   "source": [
    "cat[:5]"
   ]
  },
  {
   "cell_type": "code",
   "execution_count": 4,
   "id": "679e8b1f-184a-4f5a-a262-8a56dd283db8",
   "metadata": {},
   "outputs": [
    {
     "data": {
      "text/plain": [
       "1.979544468720754"
      ]
     },
     "execution_count": 4,
     "metadata": {},
     "output_type": "execute_result"
    }
   ],
   "source": [
    "(end-ini)/60"
   ]
  },
  {
   "cell_type": "code",
   "execution_count": 7,
   "id": "aedf9177-5a16-474f-aa58-af65f53b5947",
   "metadata": {
    "scrolled": true
   },
   "outputs": [
    {
     "name": "stdout",
     "output_type": "stream",
     "text": [
      "TARGETID\n",
      "SURVEY\n",
      "PROGRAM\n",
      "HEALPIX\n",
      "SPGRPVAL\n",
      "Z\n",
      "ZERR\n",
      "ZWARN\n",
      "CHI2\n",
      "COEFF\n",
      "NPIXELS\n",
      "SPECTYPE\n",
      "SUBTYPE\n",
      "NCOEFF\n",
      "DELTACHI2\n",
      "COADD_FIBERSTATUS\n",
      "TARGET_RA\n",
      "TARGET_DEC\n",
      "PMRA\n",
      "PMDEC\n",
      "REF_EPOCH\n",
      "FA_TARGET\n",
      "FA_TYPE\n",
      "OBJTYPE\n",
      "SUBPRIORITY\n",
      "OBSCONDITIONS\n",
      "RELEASE\n",
      "BRICKNAME\n",
      "BRICKID\n",
      "BRICK_OBJID\n",
      "MORPHTYPE\n",
      "EBV\n",
      "FLUX_G\n",
      "FLUX_R\n",
      "FLUX_Z\n",
      "FLUX_W1\n",
      "FLUX_W2\n",
      "FLUX_IVAR_G\n",
      "FLUX_IVAR_R\n",
      "FLUX_IVAR_Z\n",
      "FLUX_IVAR_W1\n",
      "FLUX_IVAR_W2\n",
      "FIBERFLUX_G\n",
      "FIBERFLUX_R\n",
      "FIBERFLUX_Z\n",
      "FIBERTOTFLUX_G\n",
      "FIBERTOTFLUX_R\n",
      "FIBERTOTFLUX_Z\n",
      "MASKBITS\n",
      "SERSIC\n",
      "SHAPE_R\n",
      "SHAPE_E1\n",
      "SHAPE_E2\n",
      "REF_ID\n",
      "REF_CAT\n",
      "GAIA_PHOT_G_MEAN_MAG\n",
      "GAIA_PHOT_BP_MEAN_MAG\n",
      "GAIA_PHOT_RP_MEAN_MAG\n",
      "PARALLAX\n",
      "PHOTSYS\n",
      "PRIORITY_INIT\n",
      "NUMOBS_INIT\n",
      "CMX_TARGET\n",
      "DESI_TARGET\n",
      "BGS_TARGET\n",
      "MWS_TARGET\n",
      "SCND_TARGET\n",
      "SV1_DESI_TARGET\n",
      "SV1_BGS_TARGET\n",
      "SV1_MWS_TARGET\n",
      "SV1_SCND_TARGET\n",
      "SV2_DESI_TARGET\n",
      "SV2_BGS_TARGET\n",
      "SV2_MWS_TARGET\n",
      "SV2_SCND_TARGET\n",
      "SV3_DESI_TARGET\n",
      "SV3_BGS_TARGET\n",
      "SV3_MWS_TARGET\n",
      "SV3_SCND_TARGET\n",
      "PLATE_RA\n",
      "PLATE_DEC\n",
      "COADD_NUMEXP\n",
      "COADD_EXPTIME\n",
      "COADD_NUMNIGHT\n",
      "COADD_NUMTILE\n",
      "MEAN_DELTA_X\n",
      "RMS_DELTA_X\n",
      "MEAN_DELTA_Y\n",
      "RMS_DELTA_Y\n",
      "MEAN_PSF_TO_FIBER_SPECFLUX\n",
      "MEAN_FIBER_RA\n",
      "STD_FIBER_RA\n",
      "MEAN_FIBER_DEC\n",
      "STD_FIBER_DEC\n",
      "MIN_MJD\n",
      "MAX_MJD\n",
      "MEAN_MJD\n",
      "TSNR2_GPBDARK_B\n",
      "TSNR2_ELG_B\n",
      "TSNR2_GPBBRIGHT_B\n",
      "TSNR2_LYA_B\n",
      "TSNR2_BGS_B\n",
      "TSNR2_GPBBACKUP_B\n",
      "TSNR2_QSO_B\n",
      "TSNR2_LRG_B\n",
      "TSNR2_GPBDARK_R\n",
      "TSNR2_ELG_R\n",
      "TSNR2_GPBBRIGHT_R\n",
      "TSNR2_LYA_R\n",
      "TSNR2_BGS_R\n",
      "TSNR2_GPBBACKUP_R\n",
      "TSNR2_QSO_R\n",
      "TSNR2_LRG_R\n",
      "TSNR2_GPBDARK_Z\n",
      "TSNR2_ELG_Z\n",
      "TSNR2_GPBBRIGHT_Z\n",
      "TSNR2_LYA_Z\n",
      "TSNR2_BGS_Z\n",
      "TSNR2_GPBBACKUP_Z\n",
      "TSNR2_QSO_Z\n",
      "TSNR2_LRG_Z\n",
      "TSNR2_GPBDARK\n",
      "TSNR2_ELG\n",
      "TSNR2_GPBBRIGHT\n",
      "TSNR2_LYA\n",
      "TSNR2_BGS\n",
      "TSNR2_GPBBACKUP\n",
      "TSNR2_QSO\n",
      "TSNR2_LRG\n",
      "MAIN_NSPEC\n",
      "MAIN_PRIMARY\n",
      "SV_NSPEC\n",
      "SV_PRIMARY\n",
      "ZCAT_NSPEC\n",
      "ZCAT_PRIMARY\n",
      "DESINAME\n"
     ]
    }
   ],
   "source": [
    "for c in cat.columns:\n",
    "    print(c)"
   ]
  },
  {
   "cell_type": "code",
   "execution_count": 10,
   "id": "b8acbd53-3e9a-4a77-822d-a6b2e5bc6989",
   "metadata": {},
   "outputs": [
    {
     "data": {
      "text/html": [
       "&lt;MaskedColumn name=&apos;OBJTYPE&apos; dtype=&apos;bytes3&apos; length=5&gt;\n",
       "<table>\n",
       "<tr><td></td></tr>\n",
       "<tr><td>BAD</td></tr>\n",
       "<tr><td>NON</td></tr>\n",
       "<tr><td>SKY</td></tr>\n",
       "<tr><td>TGT</td></tr>\n",
       "</table>"
      ],
      "text/plain": [
       "<MaskedColumn name='OBJTYPE' dtype='bytes3' length=5>\n",
       "   \n",
       "BAD\n",
       "NON\n",
       "SKY\n",
       "TGT"
      ]
     },
     "execution_count": 10,
     "metadata": {},
     "output_type": "execute_result"
    }
   ],
   "source": [
    "np.unique(cat['OBJTYPE'])"
   ]
  },
  {
   "cell_type": "code",
   "execution_count": 13,
   "id": "050c2c86-7bc1-406a-be1f-bf8fdc1d0e7a",
   "metadata": {},
   "outputs": [],
   "source": [
    "cols = ['name','ra','dec','z_lens','z_source','zl_phot','zs_phot','Rein','lens_mag_i','source_mag_i','type','discovery','grade','Reference']\n",
    "hsc = pd.read_csv('/pscratch/sd/v/vtorresg/desi-lenses/hsc_full_catalog.csv', header=None, names=cols)"
   ]
  },
  {
   "cell_type": "code",
   "execution_count": 18,
   "id": "f177d50f-6960-4c19-93a6-6eb832bdf478",
   "metadata": {},
   "outputs": [],
   "source": [
    "row_h = hsc.iloc[0]"
   ]
  },
  {
   "cell_type": "code",
   "execution_count": 19,
   "id": "f9c20b86-c8f4-4e8e-beba-0b3b89f858f0",
   "metadata": {},
   "outputs": [],
   "source": [
    "row_z = cat[0]"
   ]
  },
  {
   "cell_type": "markdown",
   "id": "6bcd87c5-bfc9-41af-bdce-a1b65b39266d",
   "metadata": {},
   "source": [
    "Necesito hacer crossmatching de los dos catalogos\n",
    "\n",
    "- hsc tiene ra,dec\n",
    "- en el paper definen un radio de 6''\n",
    "- puedo tomar las coordenadas de cada lente para tomarlas como centro de un circulo de radio 6''\n",
    "- luego puedo filtrar el catalogo de z\n",
    "\n",
    "------------\n",
    "- puedo calcular la distancia entre el lente y los objetos de desi\n",
    "- calcular la distancia ra1,dec1 ra2,dec2 y ver si tienen una separacion angular de <= 6''"
   ]
  },
  {
   "cell_type": "code",
   "execution_count": 21,
   "id": "54bcefdf-7240-4131-a952-11a0c883ab77",
   "metadata": {},
   "outputs": [],
   "source": [
    "from astropy.coordinates import SkyCoord\n",
    "import astropy.units as u"
   ]
  },
  {
   "cell_type": "code",
   "execution_count": 24,
   "id": "f2293b7b-947c-423d-8602-ea32143442b2",
   "metadata": {},
   "outputs": [],
   "source": [
    "p_h = SkyCoord(ra=row_h['ra']*u.deg, dec=row_h['dec']*u.deg)\n",
    "p_r = SkyCoord(ra=row_z['TARGET_RA']*u.deg, dec=row_z['TARGET_DEC']*u.deg)"
   ]
  },
  {
   "cell_type": "markdown",
   "id": "e9f56ee0-b16d-45a6-967d-c952c8f13d0d",
   "metadata": {},
   "source": [
    "$$\\ cos \\theta = \\sin \\delta_1 \\sin \\delta_2 + \\cos \\delta_1 \\cos \\delta_2 \\cos \\left( \\alpha_1 - \\alpha_2 \\right)$$"
   ]
  },
  {
   "cell_type": "code",
   "execution_count": 25,
   "id": "8ee29be4-0067-46f0-ac23-de9fbb75ff85",
   "metadata": {},
   "outputs": [
    {
     "data": {
      "text/latex": [
       "$35^\\circ26{}^\\prime40.20607954{}^{\\prime\\prime}$"
      ],
      "text/plain": [
       "<Angle 35.44450169 deg>"
      ]
     },
     "execution_count": 25,
     "metadata": {},
     "output_type": "execute_result"
    }
   ],
   "source": [
    "d = p_h.separation(p_r)\n",
    "d"
   ]
  },
  {
   "cell_type": "markdown",
   "id": "89f78241-a83e-4b4a-bcff-f5b80c02e49d",
   "metadata": {},
   "source": [
    "skycoord tiene un metodo search_around_sky"
   ]
  },
  {
   "cell_type": "code",
   "execution_count": 30,
   "id": "22900667-f534-44a0-9b03-d9938748d294",
   "metadata": {},
   "outputs": [],
   "source": [
    "#la tabla ya esta en grados?\n",
    "d_coord = SkyCoord(ra=cat['TARGET_RA'], dec=cat['TARGET_DEC'])"
   ]
  },
  {
   "cell_type": "code",
   "execution_count": 35,
   "id": "e3d2ca20-0225-4517-8186-d15e5cf68827",
   "metadata": {
    "scrolled": true
   },
   "outputs": [],
   "source": [
    "h_coord = SkyCoord(ra=hsc['ra'].to_numpy()*u.deg, dec=hsc['dec'].to_numpy()*u.deg)"
   ]
  },
  {
   "cell_type": "code",
   "execution_count": 37,
   "id": "ec67ab3e-defd-4b6f-9631-aee2de710f42",
   "metadata": {},
   "outputs": [
    {
     "data": {
      "text/plain": [
       "(28425963,)"
      ]
     },
     "execution_count": 37,
     "metadata": {},
     "output_type": "execute_result"
    }
   ],
   "source": [
    "d_coord.shape"
   ]
  },
  {
   "cell_type": "code",
   "execution_count": 41,
   "id": "51c34e1e-80f6-4078-9b18-71b62dd0cbf7",
   "metadata": {},
   "outputs": [
    {
     "data": {
      "text/plain": [
       "<SkyCoord (ICRS): (ra, dec) in deg\n",
       "    (0.03524, 2.44944)>"
      ]
     },
     "execution_count": 41,
     "metadata": {},
     "output_type": "execute_result"
    }
   ],
   "source": [
    "row = h_coord[0]\n",
    "row"
   ]
  },
  {
   "cell_type": "code",
   "execution_count": 42,
   "id": "161f5225-f7aa-414b-a042-3854eab5893f",
   "metadata": {},
   "outputs": [],
   "source": [
    "idx_d, idx_h, sep2d, _ = d_coord.search_around_sky(h_coord, seplimit=6*u.arcsec)"
   ]
  },
  {
   "cell_type": "code",
   "execution_count": 43,
   "id": "702292ac-ce34-41ce-a943-e06bcd0fba2c",
   "metadata": {},
   "outputs": [
    {
     "data": {
      "text/plain": [
       "array([   2,    3,    5, ..., 3955, 3956, 3956])"
      ]
     },
     "execution_count": 43,
     "metadata": {},
     "output_type": "execute_result"
    }
   ],
   "source": [
    "idx_d #index de los objetos de desi"
   ]
  },
  {
   "cell_type": "code",
   "execution_count": 44,
   "id": "5a676ece-b7a9-4ec8-b92e-9c61956bec22",
   "metadata": {},
   "outputs": [
    {
     "data": {
      "text/plain": [
       "array([17079632, 17079353, 18560974, ..., 18061521,  7765506, 18566001])"
      ]
     },
     "execution_count": 44,
     "metadata": {},
     "output_type": "execute_result"
    }
   ],
   "source": [
    "idx_h #index de objetos de hsc"
   ]
  },
  {
   "cell_type": "code",
   "execution_count": 45,
   "id": "786de0e1-980e-4e54-973c-6c7b7978ca95",
   "metadata": {},
   "outputs": [
    {
     "data": {
      "text/latex": [
       "[$0^\\circ00{}^\\prime00.03849038{}^{\\prime\\prime}$\n",
       " $0^\\circ00{}^\\prime00.05072799{}^{\\prime\\prime}$\n",
       " $0^\\circ00{}^\\prime00.06087533{}^{\\prime\\prime}$ ...\n",
       " $0^\\circ00{}^\\prime00.01792084{}^{\\prime\\prime}$\n",
       " $0^\\circ00{}^\\prime00.00073687{}^{\\prime\\prime}$\n",
       " $0^\\circ00{}^\\prime00.00073687{}^{\\prime\\prime}$]"
      ],
      "text/plain": [
       "<Angle [1.06917721e-05, 1.40911073e-05, 1.69098141e-05, ...,\n",
       "        4.97801121e-06, 2.04684749e-07, 2.04684749e-07] deg>"
      ]
     },
     "execution_count": 45,
     "metadata": {},
     "output_type": "execute_result"
    }
   ],
   "source": [
    "sep2d #sep entre los pares"
   ]
  },
  {
   "cell_type": "code",
   "execution_count": 46,
   "id": "b94cb3e1-0471-47c1-89e9-0834a69dc746",
   "metadata": {},
   "outputs": [
    {
     "data": {
      "text/latex": [
       "$[1.8660663 \\times 10^{-7},~2.4593622 \\times 10^{-7},~2.9513193 \\times 10^{-7},~\\dots,~8.6882686 \\times 10^{-8},~3.5724228 \\times 10^{-9},~3.5724228 \\times 10^{-9}] \\; \\mathrm{}$"
      ],
      "text/plain": [
       "<Quantity [1.86606627e-07, 2.45936218e-07, 2.95131932e-07, ...,\n",
       "           8.68826857e-08, 3.57242280e-09, 3.57242280e-09]>"
      ]
     },
     "execution_count": 46,
     "metadata": {},
     "output_type": "execute_result"
    }
   ],
   "source": [
    "_ #esta seria la dis"
   ]
  },
  {
   "cell_type": "code",
   "execution_count": null,
   "id": "b0c8917f-081e-41d7-af11-44a7637e9104",
   "metadata": {},
   "outputs": [],
   "source": []
  }
 ],
 "metadata": {
  "kernelspec": {
   "display_name": "NERSC Python",
   "language": "python",
   "name": "python3"
  },
  "language_info": {
   "codemirror_mode": {
    "name": "ipython",
    "version": 3
   },
   "file_extension": ".py",
   "mimetype": "text/x-python",
   "name": "python",
   "nbconvert_exporter": "python",
   "pygments_lexer": "ipython3",
   "version": "3.11.7"
  }
 },
 "nbformat": 4,
 "nbformat_minor": 5
}
